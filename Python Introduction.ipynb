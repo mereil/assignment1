{
 "cells": [
  {
   "cell_type": "code",
   "execution_count": 2,
   "id": "fe9efb0b",
   "metadata": {},
   "outputs": [],
   "source": [
    "# define variables\n",
    "fname = \"Robert\"     # string variable\n",
    "wage_rate = 35.50    # floating point variable\n",
    "age = 24             # integer variable\n",
    "hours = 43.5"
   ]
  },
  {
   "cell_type": "code",
   "execution_count": 6,
   "id": "3d79a252",
   "metadata": {},
   "outputs": [
    {
     "name": "stdout",
     "output_type": "stream",
     "text": [
      "Robert weekly wages = $ 1544.25\n"
     ]
    }
   ],
   "source": [
    "wages = wage_rate * hours         # expression\n",
    "print(fname, \"weekly wages = $\", wages)   # \"weekly wages\" is a literal"
   ]
  },
  {
   "cell_type": "markdown",
   "id": "9b657bfc",
   "metadata": {},
   "source": [
    "### Arithmatic Operators (+, -, *, /, ** )"
   ]
  },
  {
   "cell_type": "code",
   "execution_count": 9,
   "id": "4dd5f717",
   "metadata": {},
   "outputs": [
    {
     "name": "stdout",
     "output_type": "stream",
     "text": [
      "The result = 248832\n"
     ]
    }
   ],
   "source": [
    "number = 12\n",
    "result = number ** 5\n",
    "print(\"The result =\", result)"
   ]
  },
  {
   "cell_type": "code",
   "execution_count": 15,
   "id": "73f330ca",
   "metadata": {},
   "outputs": [
    {
     "data": {
      "text/plain": [
       "4"
      ]
     },
     "execution_count": 15,
     "metadata": {},
     "output_type": "execute_result"
    }
   ],
   "source": [
    "17//4    #int(17/4)"
   ]
  },
  {
   "cell_type": "code",
   "execution_count": 16,
   "id": "9bb543f7",
   "metadata": {},
   "outputs": [
    {
     "data": {
      "text/plain": [
       "1"
      ]
     },
     "execution_count": 16,
     "metadata": {},
     "output_type": "execute_result"
    }
   ],
   "source": [
    "17 % 4   #this gives the remainder"
   ]
  },
  {
   "cell_type": "code",
   "execution_count": null,
   "id": "94a3e4fb",
   "metadata": {},
   "outputs": [],
   "source": []
  }
 ],
 "metadata": {
  "kernelspec": {
   "display_name": "Python 3",
   "language": "python",
   "name": "python3"
  },
  "language_info": {
   "codemirror_mode": {
    "name": "ipython",
    "version": 3
   },
   "file_extension": ".py",
   "mimetype": "text/x-python",
   "name": "python",
   "nbconvert_exporter": "python",
   "pygments_lexer": "ipython3",
   "version": "3.8.8"
  }
 },
 "nbformat": 4,
 "nbformat_minor": 5
}
